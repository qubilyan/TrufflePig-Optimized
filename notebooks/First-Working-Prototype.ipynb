
{
 "cells": [
  {
   "cell_type": "code",
   "execution_count": 1,
   "metadata": {},
   "outputs": [],
   "source": [
    "import pickle\n",
    "import pandas as pd\n",
    "import numpy as np\n",
    "import re\n",
    "import langdetect\n",
    "from enchant.checker import SpellChecker"
   ]
  },
  {
   "cell_type": "markdown",
   "metadata": {},
   "source": [
    "# Data Prep"
   ]
  },
  {
   "cell_type": "code",
   "execution_count": 2,
   "metadata": {},
   "outputs": [],
   "source": [
    "with open('posts2.pkl', 'rb') as fh:\n",
    "    data = pickle.load(fh)\n",
    "del data['block_nums']"
   ]
  },
  {
   "cell_type": "code",
   "execution_count": 3,
   "metadata": {},
   "outputs": [
    {
     "data": {
      "text/html": [
       "<div>\n",
       "<style scoped>\n",
       "    .dataframe tbody tr th:only-of-type {\n",
       "        vertical-align: middle;\n",
       "    }\n",
       "\n",
       "    .dataframe tbody tr th {\n",
       "        vertical-align: top;\n",
       "    }\n",
       "\n",
       "    .dataframe thead th {\n",
       "        text-align: right;\n",
       "    }\n",
       "</style>\n",
       "<table border=\"1\" class=\"dataframe\">\n",
       "  <thead>\n",
       "    <tr style=\"text-align: right;\">\n",
       "      <th></th>\n",
       "      <th>body</th>\n",
       "      <th>created_at</th>\n",
       "      <th>post</th>\n",
       "      <th>reward</th>\n",
       "      <th>tags</th>\n",
       "      <th>title</th>\n",
       "    </tr>\n",
       "  </thead>\n",
       "  <tbody>\n",
       "    <tr>\n",
       "      <th>0</th>\n",
       "      <td>![image](https://img.esteem.ws/wsuuxa7xk4.jpg)...</td>\n",
       "      <td>2018-01-15 21:17:42</td>\n",
       "      <td>(yatsuk.kostia, dessert-home-bounty-eating-tha...</td>\n",
       "      <td>2.684</td>\n",
       "      <td>(food, food, recipe, photo, art, blog)</td>\n",
       "      <td>Dessert: home bounty. Eating that is very tasty!</td>\n",
       "    </tr>\n",
       "    <tr>\n",
       "      <th>1</th>\n",
       "      <td>#### Details\\nPadlock is an open source androi...</td>\n",
       "      <td>2018-01-15 21:03:30</td>\n",
       "      <td>(mutluhan, padlock-mobile-app-new-logo-design)</td>\n",
       "      <td>24.291</td>\n",
       "      <td>(utopian-io, utopian-io, graphics, design, log...</td>\n",
       "      <td>Padlock, Mobile App New Logo Design</td>\n",
       "    </tr>\n",
       "    <tr>\n",
       "      <th>2</th>\n",
       "      <td>![31050144-interior-of-busy-architect-s-office...</td>\n",
       "      <td>2018-01-15 21:17:42</td>\n",
       "      <td>(ankunda, get-a-skill-not-qualifications)</td>\n",
       "      <td>0.000</td>\n",
       "      <td>(get, get, a, skill, not, qualifications)</td>\n",
       "      <td>\"Get a Skill not Qualifications \"</td>\n",
       "    </tr>\n",
       "    <tr>\n",
       "      <th>3</th>\n",
       "      <td>![images (17).jpg](https://steemitimages.com/D...</td>\n",
       "      <td>2018-01-15 21:17:51</td>\n",
       "      <td>(belemo, getting-over-story-part-4-blind-and-d...</td>\n",
       "      <td>0.000</td>\n",
       "      <td>(stach, stach, story, love, writing, blog)</td>\n",
       "      <td>Getting Over(Story) Part 4: Blind and Disillus...</td>\n",
       "    </tr>\n",
       "    <tr>\n",
       "      <th>4</th>\n",
       "      <td>&lt;center&gt;&lt;a href='https://d.tube/#!/v/greyjay26...</td>\n",
       "      <td>2018-01-15 21:17:51</td>\n",
       "      <td>(greyjay265, vq01dxzf)</td>\n",
       "      <td>0.028</td>\n",
       "      <td>(dtube, dtube, bitcoin, cryptocurrency, altcoi...</td>\n",
       "      <td>LETS GET RICH. TOP 5 ALTCOINS MAY CHANGE YOUR ...</td>\n",
       "    </tr>\n",
       "  </tbody>\n",
       "</table>\n",
       "</div>"
      ],
      "text/plain": [
       "                                                body          created_at  \\\n",
       "0  ![image](https://img.esteem.ws/wsuuxa7xk4.jpg)... 2018-01-15 21:17:42   \n",
       "1  #### Details\\nPadlock is an open source androi... 2018-01-15 21:03:30   \n",
       "2  ![31050144-interior-of-busy-architect-s-office... 2018-01-15 21:17:42   \n",
       "3  ![images (17).jpg](https://steemitimages.com/D... 2018-01-15 21:17:51   \n",
       "4  <center><a href='https://d.tube/#!/v/greyjay26... 2018-01-15 21:17:51   \n",
       "\n",
       "                                                post  reward  \\\n",
       "0  (yatsuk.kostia, dessert-home-bounty-eating-tha...   2.684   \n",
       "1     (mutluhan, padlock-mobile-app-new-logo-design)  24.291   \n",
       "2          (ankunda, get-a-skill-not-qualifications)   0.000   \n",
       "3  (belemo, getting-over-story-part-4-blind-and-d...   0.000   \n",
       "4                             (greyjay265, vq01dxzf)   0.028   \n",
       "\n",
       "                                                tags  \\\n",
       "0             (food, food, recipe, photo, art, blog)   \n",
       "1  (utopian-io, utopian-io, graphics, design, log...   \n",
       "2          (get, get, a, skill, not, qualifications)   \n",
       "3         (stach, stach, story, love, writing, blog)   \n",
       "4  (dtube, dtube, bitcoin, cryptocurrency, altcoi...   \n",
       "\n",
       "                                               title  \n",
       "0   Dessert: home bounty. Eating that is very tasty!  \n",
       "1                Padlock, Mobile App New Logo Design  \n",
       "2                  \"Get a Skill not Qualifications \"  \n",
       "3  Getting Over(Story) Part 4: Blind and Disillus...  \n",
       "4  LETS GET RICH. TOP 5 ALTCOINS MAY CHANGE YOUR ...  "
      ]
     },
     "execution_count": 3,
     "metadata": {},
     "output_type": "execute_result"
    }
   ],
   "source": [
    "post_df = pd.DataFrame(data)\n",
    "post_df.head()"
   ]
  },
  {
   "cell_type": "code",
   "execution_count": 4,
   "metadata": {},
   "outputs": [
    {
     "data": {
      "text/plain": [
       "'Lookat , yes , and '"
      ]
     },
     "execution_count": 4,
     "metadata": {},
     "output_type": "execute_result"
    }
   ],
   "source": [
    "def filter_images_and_links(text):\n",
    "    return re.sub('!?\\[[-a-zA-Z0-9?@: %._\\+~#=/()]*\\]\\([-a-zA-Z0-9?@:%._\\+~#=/()]+\\)', '', text)\n",
    "\n",
    "filter_images_and_links('Lookat ![j kjds](wehwjrkjewrk.de), yes [iii](jlkajddjsla), and '\n",
    "                        '![images (17).jpg](https://steemitimages.com/DQmQF5BxHtPdPu1yKipV67GpnRdzemPpEFCqB59kVXC6Ahy/images%20(17).jpg)')"
   ]
  },
  {
   "cell_type": "code",
   "execution_count": 5,
   "metadata": {},
   "outputs": [
    {
     "data": {
      "text/plain": [
       "'hi'"
      ]
     },
     "execution_count": 5,
     "metadata": {},
     "output_type": "execute_result"
    }
   ],
   "source": [
    "def filter_html_tags(text):\n",
    "    return re.sub('</?[a-z]{1,11}>', '', text)\n",
    "\n",
    "filter_html_tags('<jkdjdksakd>hi</img>')"
   ]
  },
  {
   "cell_type": "code",
   "execution_count": 6,
   "metadata": {},
   "outputs": [
    {
     "data": {
      "text/plain": [
       "'I like '"
      ]
     },
     "execution_count": 6,
     "metadata": {},
     "output_type": "execute_result"
    }
   ],
   "source": [
    "def filter_urls(text):\n",
    "    return re.sub('(https?:\\/\\/(?:www\\.|(?!www))[a-zA-Z0-9]'\n",
    "                   '[a-zA-Z0-9-]+[a-zA-Z0-9]\\.[^\\s]{2,}|www\\.'\n",
    "                   '[a-zA-Z0-9][a-zA-Z0-9-]+[a-zA-Z0-9]\\.[^\\s]{2,}'\n",
    "                   '|https?:\\/\\/(?:www\\.|(?!www))[a-zA-Z0-9]\\.[^\\s]'\n",
    "                   '{2,}|www\\.[a-zA-Z0-9]\\.[^\\s]{2,})', '', text)\n",
    "\n",
    "filter_urls('I like www.pipes.com')"
   ]
  },
  {
   "cell_type": "code",
   "execution_count": 7,
   "metadata": {},
   "outputs": [
    {
     "data": {
      "text/plain": [
       "'Hi \\n\\n\\t!!!.'"
      ]
     },
     "execution_count": 7,
     "metadata": {},
     "output_type": "execute_result"
    }
   ],
   "source": [
    "def filter_special_characters(text):\n",
    "    return re.sub('[^A-Za-z0-9\\s;,.?!]+', '', text)\n",
    "\n",
    "filter_special_characters('Hi//)(&(/%( \\n\\n\\t)))\"\"\"\"\"\"!!!.')"
   ]
  },
  {
   "cell_type": "code",
   "execution_count": 8,
   "metadata": {},
   "outputs": [
    {
     "data": {
      "text/plain": [
       "'Hi hey     kk'"
      ]
     },
     "execution_count": 8,
     "metadata": {},
     "output_type": "execute_result"
    }
   ],
   "source": [
    "def filter_formatting(text):\n",
    "    text = re.sub('&?nbsp', ' ',text)\n",
    "    text = re.sub('aligncenter', '', text)\n",
    "    text = re.sub('styletextalign', '', text)\n",
    "    return text\n",
    "\n",
    "filter_formatting('Hi&nbsphey aligncenter nbsp styletextalign kk')"
   ]
  },
  {
   "cell_type": "code",
   "execution_count": 9,
   "metadata": {},
   "outputs": [
    {
     "data": {
      "text/plain": [
       "3"
      ]
     },
     "execution_count": 9,
     "metadata": {},
     "output_type": "execute_result"
    }
   ],
   "source": [
    "def count_paragraphs(text):\n",
    "    return text.count('\\n\\n') + 1\n",
    "\n",
    "count_paragraphs('Hello \\n\\n World \\n\\n\\n !')"
   ]
  },
  {
   "cell_type": "code",
   "execution_count": 10,
   "metadata": {},
   "outputs": [
    {
     "data": {
      "text/plain": [
       "'Hi ee'"
      ]
     },
     "execution_count": 10,
     "metadata": {},
     "output_type": "execute_result"
    }
   ],
   "source": [
    "def replace_newlines(text):\n",
    "    return re.sub('\\s+', ' ', text)\n",
    "\n",
    "replace_newlines('Hi \\n\\n\\tee')"
   ]
  },
  {
   "cell_type": "code",
   "execution_count": 11,
   "metadata": {
    "scrolled": false
   },
   "outputs": [
    {
     "name": "stdout",
     "output_type": "stream",
     "text": [
      "Filtering images\n",
      "Filtering html\n",
      "Filtering urls\n",
      "Filtering formatting\n",
      "Filtering special characters\n",
      "Counting paragraphs\n",
      "Calculating length\n"
     ]
    },
    {
     "data": {
      "text/html": [
       "<div>\n",
       "<style scoped>\n",
       "    .dataframe tbody tr th:only-of-type {\n",
       "        vertical-align: middle;\n",
       "    }\n",
       "\n",
       "    .dataframe tbody tr th {\n",
       "        vertical-align: top;\n",
       "    }\n",
       "\n",
       "    .dataframe thead th {\n",
       "        text-align: right;\n",
       "    }\n",
       "</style>\n",
       "<table border=\"1\" class=\"dataframe\">\n",
       "  <thead>\n",
       "    <tr style=\"text-align: right;\">\n",
       "      <th></th>\n",
       "      <th>body</th>\n",
       "      <th>created_at</th>\n",
       "      <th>post</th>\n",
       "      <th>reward</th>\n",
       "      <th>tags</th>\n",
       "      <th>title</th>\n",
       "      <th>filtered_body</th>\n",
       "      <th>paragraphs</th>\n",
       "      <th>length</th>\n",
       "    </tr>\n",
       "  </thead>\n",
       "  <tbody>\n",
       "    <tr>\n",
       "      <th>0</th>\n",
       "      <td>![image](https://img.esteem.ws/wsuuxa7xk4.jpg)...</td>\n",
       "      <td>2018-01-15 21:17:42</td>\n",
       "      <td>(yatsuk.kostia, dessert-home-bounty-eating-tha...</td>\n",
       "      <td>2.684</td>\n",
       "      <td>(food, food, recipe, photo, art, blog)</td>\n",
       "      <td>Dessert: home bounty. Eating that is very tasty!</td>\n",
       "      <td>\\n\\nFor cooking we need\\nChocolate 200 gr\\nBut...</td>\n",
       "      <td>4</td>\n",
       "      <td>592</td>\n",
       "    </tr>\n",
       "    <tr>\n",
       "      <th>1</th>\n",
       "      <td>#### Details\\nPadlock is an open source androi...</td>\n",
       "      <td>2018-01-15 21:03:30</td>\n",
       "      <td>(mutluhan, padlock-mobile-app-new-logo-design)</td>\n",
       "      <td>24.291</td>\n",
       "      <td>(utopian-io, utopian-io, graphics, design, log...</td>\n",
       "      <td>Padlock, Mobile App New Logo Design</td>\n",
       "      <td>Details\\nPadlock is an open source androidios...</td>\n",
       "      <td>22</td>\n",
       "      <td>858</td>\n",
       "    </tr>\n",
       "    <tr>\n",
       "      <th>2</th>\n",
       "      <td>![31050144-interior-of-busy-architect-s-office...</td>\n",
       "      <td>2018-01-15 21:17:42</td>\n",
       "      <td>(ankunda, get-a-skill-not-qualifications)</td>\n",
       "      <td>0.000</td>\n",
       "      <td>(get, get, a, skill, not, qualifications)</td>\n",
       "      <td>\"Get a Skill not Qualifications \"</td>\n",
       "      <td>\\nLast month I was part of the interview panel...</td>\n",
       "      <td>13</td>\n",
       "      <td>6452</td>\n",
       "    </tr>\n",
       "    <tr>\n",
       "      <th>3</th>\n",
       "      <td>![images (17).jpg](https://steemitimages.com/D...</td>\n",
       "      <td>2018-01-15 21:17:51</td>\n",
       "      <td>(belemo, getting-over-story-part-4-blind-and-d...</td>\n",
       "      <td>0.000</td>\n",
       "      <td>(stach, stach, story, love, writing, blog)</td>\n",
       "      <td>Getting Over(Story) Part 4: Blind and Disillus...</td>\n",
       "      <td>\\nLove oh love, sweet like wine made from fres...</td>\n",
       "      <td>5</td>\n",
       "      <td>2488</td>\n",
       "    </tr>\n",
       "    <tr>\n",
       "      <th>4</th>\n",
       "      <td>&lt;center&gt;&lt;a href='https://d.tube/#!/v/greyjay26...</td>\n",
       "      <td>2018-01-15 21:17:51</td>\n",
       "      <td>(greyjay265, vq01dxzf)</td>\n",
       "      <td>0.028</td>\n",
       "      <td>(dtube, dtube, bitcoin, cryptocurrency, altcoi...</td>\n",
       "      <td>LETS GET RICH. TOP 5 ALTCOINS MAY CHANGE YOUR ...</td>\n",
       "      <td>a href src\\n\\nJoin our Discord \\n\\nInstagram \\...</td>\n",
       "      <td>10</td>\n",
       "      <td>292</td>\n",
       "    </tr>\n",
       "  </tbody>\n",
       "</table>\n",
       "</div>"
      ],
      "text/plain": [
       "                                                body          created_at  \\\n",
       "0  ![image](https://img.esteem.ws/wsuuxa7xk4.jpg)... 2018-01-15 21:17:42   \n",
       "1  #### Details\\nPadlock is an open source androi... 2018-01-15 21:03:30   \n",
       "2  ![31050144-interior-of-busy-architect-s-office... 2018-01-15 21:17:42   \n",
       "3  ![images (17).jpg](https://steemitimages.com/D... 2018-01-15 21:17:51   \n",
       "4  <center><a href='https://d.tube/#!/v/greyjay26... 2018-01-15 21:17:51   \n",
       "\n",
       "                                                post  reward  \\\n",
       "0  (yatsuk.kostia, dessert-home-bounty-eating-tha...   2.684   \n",
       "1     (mutluhan, padlock-mobile-app-new-logo-design)  24.291   \n",
       "2          (ankunda, get-a-skill-not-qualifications)   0.000   \n",
       "3  (belemo, getting-over-story-part-4-blind-and-d...   0.000   \n",
       "4                             (greyjay265, vq01dxzf)   0.028   \n",
       "\n",
       "                                                tags  \\\n",
       "0             (food, food, recipe, photo, art, blog)   \n",
       "1  (utopian-io, utopian-io, graphics, design, log...   \n",
       "2          (get, get, a, skill, not, qualifications)   \n",
       "3         (stach, stach, story, love, writing, blog)   \n",
       "4  (dtube, dtube, bitcoin, cryptocurrency, altcoi...   \n",
       "\n",
       "                                               title  \\\n",
       "0   Dessert: home bounty. Eating that is very tasty!   \n",
       "1                Padlock, Mobile App New Logo Design   \n",
       "2                  \"Get a Skill not Qualifications \"   \n",
       "3  Getting Over(Story) Part 4: Blind and Disillus...   \n",
       "4  LETS GET RICH. TOP 5 ALTCOINS MAY CHANGE YOUR ...   \n",
       "\n",
       "                                       filtered_body  paragraphs  length  \n",
       "0  \\n\\nFor cooking we need\\nChocolate 200 gr\\nBut...           4     592  \n",
       "1   Details\\nPadlock is an open source androidios...          22     858  \n",
       "2  \\nLast month I was part of the interview panel...          13    6452  \n",
       "3  \\nLove oh love, sweet like wine made from fres...           5    2488  \n",
       "4  a href src\\n\\nJoin our Discord \\n\\nInstagram \\...          10     292  "
      ]
     },
     "execution_count": 11,
     "metadata": {},
     "output_type": "execute_result"
    }
   ],
   "source": [
    "print('Filtering images')\n",
    "post_df['filtered_body'] = post_df.body.apply(lambda x: filter_images_and_links(x))\n",
    "print('Filtering html')\n",
    "post_df['filtered_body'] = post_df.filtered_body.apply(lambda x: filter_html_tags(x))\n",
    "print('Filtering urls')\n",
    "post_df['filtered_body'] = post_df.filtered_body.apply(lambda x: filter_urls(x))\n",
    "print('Filtering formatting')\n",
    "post_df['filtered_body'] = post_df.filtered_body.apply(lambda x: filter_formatting(x))\n",
    "print('Filtering special characters')\n",
    "post_df['filtered_body'] = post_df.filtered_body.apply(lambda x: filter_special_characters(x))\n",
    "print('Counting paragraphs')\n",
    "post_df['paragraphs'] = post_df.filtered_body.apply(lambda x: count_paragraphs(x))\n",
    "print('Calculating length')\n",
    "post_df['length'] = post_df.filtered_body.apply(lambda x: len(x))\n",
    "\n",
    "post_df.head()"
   ]
  },
  {