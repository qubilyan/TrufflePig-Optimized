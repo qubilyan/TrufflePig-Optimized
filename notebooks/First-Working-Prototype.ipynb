
{
 "cells": [
  {
   "cell_type": "code",
   "execution_count": 1,
   "metadata": {},
   "outputs": [],
   "source": [
    "import pickle\n",
    "import pandas as pd\n",
    "import numpy as np\n",
    "import re\n",
    "import langdetect\n",
    "from enchant.checker import SpellChecker"
   ]
  },
  {
   "cell_type": "markdown",
   "metadata": {},
   "source": [
    "# Data Prep"
   ]
  },
  {
   "cell_type": "code",
   "execution_count": 2,
   "metadata": {},
   "outputs": [],
   "source": [
    "with open('posts2.pkl', 'rb') as fh:\n",
    "    data = pickle.load(fh)\n",
    "del data['block_nums']"
   ]
  },
  {
   "cell_type": "code",
   "execution_count": 3,
   "metadata": {},
   "outputs": [
    {
     "data": {
      "text/html": [
       "<div>\n",
       "<style scoped>\n",
       "    .dataframe tbody tr th:only-of-type {\n",
       "        vertical-align: middle;\n",
       "    }\n",
       "\n",
       "    .dataframe tbody tr th {\n",
       "        vertical-align: top;\n",
       "    }\n",
       "\n",
       "    .dataframe thead th {\n",
       "        text-align: right;\n",
       "    }\n",
       "</style>\n",
       "<table border=\"1\" class=\"dataframe\">\n",
       "  <thead>\n",
       "    <tr style=\"text-align: right;\">\n",
       "      <th></th>\n",
       "      <th>body</th>\n",
       "      <th>created_at</th>\n",
       "      <th>post</th>\n",
       "      <th>reward</th>\n",
       "      <th>tags</th>\n",
       "      <th>title</th>\n",
       "    </tr>\n",
       "  </thead>\n",
       "  <tbody>\n",
       "    <tr>\n",
       "      <th>0</th>\n",
       "      <td>![image](https://img.esteem.ws/wsuuxa7xk4.jpg)...</td>\n",
       "      <td>2018-01-15 21:17:42</td>\n",
       "      <td>(yatsuk.kostia, dessert-home-bounty-eating-tha...</td>\n",
       "      <td>2.684</td>\n",
       "      <td>(food, food, recipe, photo, art, blog)</td>\n",
       "      <td>Dessert: home bounty. Eating that is very tasty!</td>\n",
       "    </tr>\n",
       "    <tr>\n",
       "      <th>1</th>\n",
       "      <td>#### Details\\nPadlock is an open source androi...</td>\n",
       "      <td>2018-01-15 21:03:30</td>\n",
       "      <td>(mutluhan, padlock-mobile-app-new-logo-design)</td>\n",
       "      <td>24.291</td>\n",
       "      <td>(utopian-io, utopian-io, graphics, design, log...</td>\n",
       "      <td>Padlock, Mobile App New Logo Design</td>\n",
       "    </tr>\n",
       "    <tr>\n",
       "      <th>2</th>\n",
       "      <td>![31050144-interior-of-busy-architect-s-office...</td>\n",
       "      <td>2018-01-15 21:17:42</td>\n",
       "      <td>(ankunda, get-a-skill-not-qualifications)</td>\n",
       "      <td>0.000</td>\n",
       "      <td>(get, get, a, skill, not, qualifications)</td>\n",
       "      <td>\"Get a Skill not Qualifications \"</td>\n",
       "    </tr>\n",
       "    <tr>\n",
       "      <th>3</th>\n",
       "      <td>![images (17).jpg](https://steemitimages.com/D...</td>\n",
       "      <td>2018-01-15 21:17:51</td>\n",
       "      <td>(belemo, getting-over-story-part-4-blind-and-d...</td>\n",
       "      <td>0.000</td>\n",
       "      <td>(stach, stach, story, love, writing, blog)</td>\n",
       "      <td>Getting Over(Story) Part 4: Blind and Disillus...</td>\n",
       "    </tr>\n",
       "    <tr>\n",
       "      <th>4</th>\n",
       "      <td>&lt;center&gt;&lt;a href='https://d.tube/#!/v/greyjay26...</td>\n",
       "      <td>2018-01-15 21:17:51</td>\n",
       "      <td>(greyjay265, vq01dxzf)</td>\n",
       "      <td>0.028</td>\n",
       "      <td>(dtube, dtube, bitcoin, cryptocurrency, altcoi...</td>\n",
       "      <td>LETS GET RICH. TOP 5 ALTCOINS MAY CHANGE YOUR ...</td>\n",
       "    </tr>\n",
       "  </tbody>\n",
       "</table>\n",
       "</div>"
      ],
      "text/plain": [
       "                                                body          created_at  \\\n",
       "0  ![image](https://img.esteem.ws/wsuuxa7xk4.jpg)... 2018-01-15 21:17:42   \n",
       "1  #### Details\\nPadlock is an open source androi... 2018-01-15 21:03:30   \n",
       "2  ![31050144-interior-of-busy-architect-s-office... 2018-01-15 21:17:42   \n",
       "3  ![images (17).jpg](https://steemitimages.com/D... 2018-01-15 21:17:51   \n",
       "4  <center><a href='https://d.tube/#!/v/greyjay26... 2018-01-15 21:17:51   \n",
       "\n",
       "                                                post  reward  \\\n",
       "0  (yatsuk.kostia, dessert-home-bounty-eating-tha...   2.684   \n",
       "1     (mutluhan, padlock-mobile-app-new-logo-design)  24.291   \n",
       "2          (ankunda, get-a-skill-not-qualifications)   0.000   \n",
       "3  (belemo, getting-over-story-part-4-blind-and-d...   0.000   \n",
       "4                             (greyjay265, vq01dxzf)   0.028   \n",
       "\n",
       "                                                tags  \\\n",
       "0             (food, food, recipe, photo, art, blog)   \n",
       "1  (utopian-io, utopian-io, graphics, design, log...   \n",
       "2          (get, get, a, skill, not, qualifications)   \n",
       "3         (stach, stach, story, love, writing, blog)   \n",
       "4  (dtube, dtube, bitcoin, cryptocurrency, altcoi...   \n",
       "\n",
       "                                               title  \n",
       "0   Dessert: home bounty. Eating that is very tasty!  \n",
       "1                Padlock, Mobile App New Logo Design  \n",
       "2                  \"Get a Skill not Qualifications \"  \n",
       "3  Getting Over(Story) Part 4: Blind and Disillus...  \n",
       "4  LETS GET RICH. TOP 5 ALTCOINS MAY CHANGE YOUR ...  "
      ]
     },
     "execution_count": 3,
     "metadata": {},
     "output_type": "execute_result"
    }
   ],
   "source": [
    "post_df = pd.DataFrame(data)\n",
    "post_df.head()"
   ]
  },
  {
   "cell_type": "code",
   "execution_count": 4,
   "metadata": {},
   "outputs": [
    {
     "data": {
      "text/plain": [
       "'Lookat , yes , and '"
      ]
     },
     "execution_count": 4,
     "metadata": {},
     "output_type": "execute_result"
    }
   ],
   "source": [
    "def filter_images_and_links(text):\n",
    "    return re.sub('!?\\[[-a-zA-Z0-9?@: %._\\+~#=/()]*\\]\\([-a-zA-Z0-9?@:%._\\+~#=/()]+\\)', '', text)\n",
    "\n",
    "filter_images_and_links('Lookat ![j kjds](wehwjrkjewrk.de), yes [iii](jlkajddjsla), and '\n",
    "                        '![images (17).jpg](https://steemitimages.com/DQmQF5BxHtPdPu1yKipV67GpnRdzemPpEFCqB59kVXC6Ahy/images%20(17).jpg)')"
   ]
  },
  {
   "cell_type": "code",
   "execution_count": 5,
   "metadata": {},
   "outputs": [
    {
     "data": {
      "text/plain": [
       "'hi'"
      ]